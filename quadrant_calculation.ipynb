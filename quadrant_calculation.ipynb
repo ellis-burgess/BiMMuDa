{
 "cells": [
  {
   "cell_type": "code",
   "execution_count": 1,
   "id": "68d5c8bf-2774-411f-9b4a-d680c1024bbb",
   "metadata": {},
   "outputs": [],
   "source": [
    "import numpy as np\n",
    "import pandas as pd"
   ]
  },
  {
   "cell_type": "code",
   "execution_count": 2,
   "id": "a1fd4419-37b2-45bc-82f9-b6ef05ada7ff",
   "metadata": {},
   "outputs": [
    {
     "name": "stdout",
     "output_type": "stream",
     "text": [
      "             Title                        Artist  Year Position   Ave BPM  \\\n",
      "0  Goodnight Irene  Gordon Jenkins & The Weavers  1950        1  0.047619   \n",
      "1        Mona Lisa                 Nat King Cole  1950        2 -0.757576   \n",
      "2  Third Man Theme                   Anton Karas  1950        3  0.520408   \n",
      "3       Sam's Song            Gary & Bing Crosby  1950        4  0.333333   \n",
      "4    Simple Melody            Gary & Bing Crosby  1950        5  0.726190   \n",
      "\n",
      "   Ave Pitch STD  Ave Pitch Value  Pitch Variation  Pitch Range  \\\n",
      "0       3.110000         0.173152         0.500000     0.724138   \n",
      "1       4.115000        -0.496504         0.346154     0.241379   \n",
      "2       5.047143         0.240631         0.538462     0.551724   \n",
      "3       3.045000         0.170365         0.423077     0.310345   \n",
      "4       3.065000        -0.411212         0.269231     0.172414   \n",
      "\n",
      "   Mode Polarity  Note Onset Density  \n",
      "0            1.0           -0.536313  \n",
      "1            1.0           -0.597765  \n",
      "2            1.0            0.098622  \n",
      "3           -1.0           -0.340782  \n",
      "4            1.0           -0.279330  \n"
     ]
    }
   ],
   "source": [
    "df = pd.read_csv('normalised_sentiment_data.csv')\n",
    "print(df.head())"
   ]
  },
  {
   "cell_type": "code",
   "execution_count": 3,
   "id": "c224d280-d4bf-4a00-9a68-6e79f4956885",
   "metadata": {},
   "outputs": [],
   "source": [
    "# BPM: positive -> high arousal\n",
    "# Pitch value: positive -> high valence\n",
    "# Pitch variation: positive -> high arousal AND high valence; negative -> ONLY low arousal\n",
    "# Pitch range: positive -> high valence; negative -> low valence AND high arousal\n",
    "# Mode polatity: positive -> high valence\n",
    "# note onset density: positive -> high arousal"
   ]
  },
  {
   "cell_type": "code",
   "execution_count": 6,
   "id": "f928fdde-5be8-41cf-a211-9d41e32d87bd",
   "metadata": {},
   "outputs": [],
   "source": [
    "df['Arousal'] = sum([df['Ave BPM'], df['Pitch Variation'], df['Note Onset Density']])\n",
    "\n",
    "# only add pitch range to arousal if it's negative\n",
    "df['Arousal'] = np.where(\n",
    "    df['Pitch Range'] < 0,\n",
    "    df['Arousal'] + df['Pitch Range'],\n",
    "    df['Arousal']\n",
    ")\n",
    "\n",
    "df['Valence'] = sum([df['Ave Pitch Value'] + df['Pitch Range'] + df['Mode Polarity']])\n",
    "\n",
    "# only add pitch variation to valence if it's positive\n",
    "df['Valence'] = np.where(\n",
    "    df['Pitch Variation'] > 0,\n",
    "    df['Valence'] + df['Pitch Variation'],\n",
    "    df['Valence']\n",
    ")"
   ]
  },
  {
   "cell_type": "code",
   "execution_count": 7,
   "id": "5006d9e2-3cf1-4269-868a-8b3afe790480",
   "metadata": {},
   "outputs": [
    {
     "name": "stdout",
     "output_type": "stream",
     "text": [
      "             Title                        Artist  Year Position   Ave BPM  \\\n",
      "0  Goodnight Irene  Gordon Jenkins & The Weavers  1950        1  0.047619   \n",
      "1        Mona Lisa                 Nat King Cole  1950        2 -0.757576   \n",
      "2  Third Man Theme                   Anton Karas  1950        3  0.520408   \n",
      "3       Sam's Song            Gary & Bing Crosby  1950        4  0.333333   \n",
      "4    Simple Melody            Gary & Bing Crosby  1950        5  0.726190   \n",
      "\n",
      "   Ave Pitch STD  Ave Pitch Value  Pitch Variation  Pitch Range  \\\n",
      "0       3.110000         0.173152         0.500000     0.724138   \n",
      "1       4.115000        -0.496504         0.346154     0.241379   \n",
      "2       5.047143         0.240631         0.538462     0.551724   \n",
      "3       3.045000         0.170365         0.423077     0.310345   \n",
      "4       3.065000        -0.411212         0.269231     0.172414   \n",
      "\n",
      "   Mode Polarity  Note Onset Density   Arousal   Valence  \n",
      "0            1.0           -0.536313  0.011306  2.397290  \n",
      "1            1.0           -0.597765 -1.009187  1.091029  \n",
      "2            1.0            0.098622  1.157492  2.330817  \n",
      "3           -1.0           -0.340782  0.415628 -0.096213  \n",
      "4            1.0           -0.279330  0.716092  1.030433  \n"
     ]
    }
   ],
   "source": [
    "print(df.head())"
   ]
  },
  {
   "cell_type": "code",
   "execution_count": 11,
   "id": "d4ee9762-a47d-4480-ba7a-149ea29d0e29",
   "metadata": {},
   "outputs": [
    {
     "name": "stdout",
     "output_type": "stream",
     "text": [
      "             Title                        Artist  Year Position   Ave BPM  \\\n",
      "0  Goodnight Irene  Gordon Jenkins & The Weavers  1950        1  0.047619   \n",
      "1        Mona Lisa                 Nat King Cole  1950        2 -0.757576   \n",
      "2  Third Man Theme                   Anton Karas  1950        3  0.520408   \n",
      "3       Sam's Song            Gary & Bing Crosby  1950        4  0.333333   \n",
      "4    Simple Melody            Gary & Bing Crosby  1950        5  0.726190   \n",
      "\n",
      "   Ave Pitch STD  Ave Pitch Value  Pitch Variation  Pitch Range  \\\n",
      "0       3.110000         0.173152         0.500000     0.724138   \n",
      "1       4.115000        -0.496504         0.346154     0.241379   \n",
      "2       5.047143         0.240631         0.538462     0.551724   \n",
      "3       3.045000         0.170365         0.423077     0.310345   \n",
      "4       3.065000        -0.411212         0.269231     0.172414   \n",
      "\n",
      "   Mode Polarity  Note Onset Density   Arousal   Valence Quadrant  \n",
      "0            1.0           -0.536313  0.011306  2.397290       Q1  \n",
      "1            1.0           -0.597765 -1.009187  1.091029       Q2  \n",
      "2            1.0            0.098622  1.157492  2.330817       Q1  \n",
      "3           -1.0           -0.340782  0.415628 -0.096213       Q4  \n",
      "4            1.0           -0.279330  0.716092  1.030433       Q1  \n"
     ]
    }
   ],
   "source": [
    "col         = 'Quadrant'\n",
    "conditions = [\n",
    "    (df['Valence'] > 0) & (df['Arousal'] > 0),  # Q1\n",
    "    (df['Valence'] < 0) & (df['Arousal'] < 0),  # Q3\n",
    "    (df['Valence'] > 0) & (df['Arousal'] < 0),  # Q2\n",
    "    (df['Valence'] < 0) & (df['Arousal'] > 0)   # Q4\n",
    "]\n",
    "\n",
    "choices     = [ \"Q1\", 'Q3', 'Q2', 'Q4' ]\n",
    "\n",
    "df[col] = np.select(conditions, choices, default='')\n",
    "    \n",
    "print(df.head())"
   ]
  },
  {
   "cell_type": "code",
   "execution_count": 31,
   "id": "b0a98122-3236-4e5c-b9e6-650d42069a05",
   "metadata": {},
   "outputs": [],
   "source": [
    "import matplotlib.pyplot as plt"
   ]
  },
  {
   "cell_type": "code",
   "execution_count": 33,
   "id": "d0867d1a-2483-4b33-bd72-aaf90b50c4dd",
   "metadata": {},
   "outputs": [
    {
     "data": {
      "image/png": "[encoded data removed]",
      "text/plain": [
       "<Figure size 640x480 with 1 Axes>"
      ]
     },
     "metadata": {},
     "output_type": "display_data"
    }
   ],
   "source": [
    "# Count the occurrences of each quadrant\n",
    "quadrant_counts = df['Quadrant'].value_counts()\n",
    "\n",
    "# Create the bar chart\n",
    "plt.bar(quadrant_counts.index, quadrant_counts.values, width=0.8, align='center')\n",
    "\n",
    "# Add labels and title\n",
    "plt.xlabel('Quadrant')\n",
    "plt.ylabel('Count')\n",
    "plt.title('Quantities of Quadrants')\n",
    "\n",
    "# Show the plot\n",
    "plt.show()\n"
   ]
  }
 ],
 "metadata": {
  "kernelspec": {
   "display_name": "Python 3 (ipykernel)",
   "language": "python",
   "name": "python3"
  },
  "language_info": {
   "codemirror_mode": {
    "name": "ipython",
    "version": 3
   },
   "file_extension": ".py",
   "mimetype": "text/x-python",
   "name": "python",
   "nbconvert_exporter": "python",
   "pygments_lexer": "ipython3",
   "version": "3.12.5"
  }
 },
 "nbformat": 4,
 "nbformat_minor": 5
}
