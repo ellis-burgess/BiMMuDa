{
 "cells": [
  {
   "cell_type": "code",
   "execution_count": 37,
   "id": "5046ed3d-8b2e-42cd-9cf1-e795473fe999",
   "metadata": {},
   "outputs": [],
   "source": [
    "import pandas as pd\n",
    "import numpy as np\n",
    "import matplotlib"
   ]
  },
  {
   "cell_type": "code",
   "execution_count": 38,
   "id": "ceefc4b0-010f-4f3e-be0e-1cba74ceab90",
   "metadata": {},
   "outputs": [
    {
     "name": "stdout",
     "output_type": "stream",
     "text": [
      "             Title                        Artist  Year Position     Ave BPM  \\\n",
      "0  Goodnight Irene  Gordon Jenkins & The Weavers  1950        1   94.000000   \n",
      "1        Mona Lisa                 Nat King Cole  1950        2   65.000000   \n",
      "2  Third Man Theme                   Anton Karas  1950        3  133.714286   \n",
      "3       Sam's Song            Gary & Bing Crosby  1950        4  118.000000   \n",
      "4    Simple Melody            Gary & Bing Crosby  1950        5  151.000000   \n",
      "\n",
      "   Ave Pitch STD  Ave Pitch Value  Pitch Variation  Pitch Range  \\\n",
      "0       3.110000        63.748000               20           33   \n",
      "1       4.115000        54.972678               16           19   \n",
      "2       5.047143        65.208633               21           28   \n",
      "3       3.045000        63.687679               18           21   \n",
      "4       3.065000        55.836299               14           17   \n",
      "\n",
      "   Mode Polarity  Note Onset Density  \n",
      "0            1.0            1.540000  \n",
      "1            1.0            1.430000  \n",
      "2            1.0            2.694286  \n",
      "3           -1.0            1.890000  \n",
      "4            1.0            2.000000  \n"
     ]
    }
   ],
   "source": [
    "df = pd.read_csv('sentiment_data.csv')\n",
    "print(df.head())"
   ]
  },
  {
   "cell_type": "code",
   "execution_count": 39,
   "id": "1ef21f59-68ef-4c4b-9649-301d503d08dd",
   "metadata": {},
   "outputs": [
    {
     "name": "stdout",
     "output_type": "stream",
     "text": [
      "{'Pitch': 60, 'Pitch Variation': 7, 'Pitch Range': 12, 'Mode': 0, 'BPM': 90, 'Note Density': 2.5}\n",
      "{'Pitch': 81.6456953642384, 'Pitch Variation': 33, 'Pitch Range': 41, 'Mode': 1.0, 'BPM': 174.0, 'Note Density': 4.47}\n",
      "{'Pitch': 49.87456445993031, 'Pitch Variation': 3, 'Pitch Range': 6, 'Mode': -1.0, 'BPM': 57.0, 'Note Density': 0.71}\n"
     ]
    }
   ],
   "source": [
    "# normalise columns to fit range from -1 to 1, with 0 representing the value at which no strong sentiment data is present\n",
    "# e.g. for tempo, 88 is \"normal\" so 88 is 0; -1 is the slowest BPM in the dataset, and 1 is the fastest BPM in the dataset\n",
    "\n",
    "normal_values = {\n",
    "    'Pitch': 60,\n",
    "    'Pitch Variation': 7,\n",
    "    'Pitch Range': 12,\n",
    "    'Mode': 0,\n",
    "    'BPM': 90,\n",
    "    'Note Density': 2.5,\n",
    "}\n",
    "\n",
    "max_values = {\n",
    "    'Pitch': max(df['Ave Pitch Value'].to_list()),\n",
    "    'Pitch Variation': max(df['Pitch Variation'].tolist()),\n",
    "    'Pitch Range': max(df['Pitch Range'].tolist()),\n",
    "    'Mode': max(df['Mode Polarity'].tolist()),\n",
    "    'BPM': max(df['Ave BPM'].tolist()),\n",
    "    'Note Density': max(df['Note Onset Density'].tolist())\n",
    "}\n",
    "\n",
    "min_values = {\n",
    "    'Pitch': min(df['Ave Pitch Value'].to_list()),\n",
    "    'Pitch Variation': min(df['Pitch Variation'].tolist()),\n",
    "    'Pitch Range': min(df['Pitch Range'].tolist()),\n",
    "    'Mode': min(df['Mode Polarity'].tolist()),\n",
    "    'BPM': min(df['Ave BPM'].tolist()),\n",
    "    'Note Density': min(df['Note Onset Density'].tolist())\n",
    "}\n",
    "\n",
    "print(normal_values)\n",
    "print(max_values)\n",
    "print(min_values)"
   ]
  },
  {
   "cell_type": "code",
   "execution_count": 40,
   "id": "f93336d4-69ba-4f2f-a702-07d654cedc56",
   "metadata": {},
   "outputs": [],
   "source": [
    "keys = ['Pitch', 'Pitch Variation', 'Pitch Range', 'Mode', 'BPM', 'Note Density']\n",
    "cols = ['Ave Pitch Value', 'Pitch Variation', 'Pitch Range', 'Mode Polarity', 'Ave BPM', 'Note Onset Density']"
   ]
  },
  {
   "cell_type": "code",
   "execution_count": 41,
   "id": "fa4ecbfc-b91f-49b1-943e-7fa651ffb4ac",
   "metadata": {},
   "outputs": [],
   "source": [
    "def normalise_column(col_name, key_name):\n",
    "    # average pitch\n",
    "    df[col_name] = df[col_name] - normal_values[key_name]\n",
    "    \n",
    "    # Conditionally multiply result\n",
    "    df[col_name] = np.where(\n",
    "        df[col_name] < 0,\n",
    "        df[col_name] * (1 / (normal_values[key_name] - min_values[key_name])),\n",
    "        df[col_name] * (1 / (max_values[key_name] - normal_values[key_name]))\n",
    "    )"
   ]
  },
  {
   "cell_type": "code",
   "execution_count": 42,
   "id": "bfbe98eb-2f0b-44c0-a67b-9db662f90ebe",
   "metadata": {},
   "outputs": [],
   "source": [
    "for key, col in zip(keys, cols):\n",
    "    normalise_column(col, key)"
   ]
  },
  {
   "cell_type": "code",
   "execution_count": 43,
   "id": "7ce6584f-d498-4b0b-989f-babf93a964a5",
   "metadata": {},
   "outputs": [
    {
     "name": "stdout",
     "output_type": "stream",
     "text": [
      "               Title                        Artist  Year Position   Ave BPM  \\\n",
      "0    Goodnight Irene  Gordon Jenkins & The Weavers  1950        1  0.047619   \n",
      "1          Mona Lisa                 Nat King Cole  1950        2 -0.757576   \n",
      "2    Third Man Theme                   Anton Karas  1950        3  0.520408   \n",
      "3         Sam's Song            Gary & Bing Crosby  1950        4  0.333333   \n",
      "4      Simple Melody            Gary & Bing Crosby  1950        5  0.726190   \n",
      "..               ...                           ...   ...      ...       ...   \n",
      "360       Heat Waves                 Glass Animals  2022        1 -0.272727   \n",
      "361        As It Was                  Harry Styles  2022        2  1.000000   \n",
      "362             Stay   Kid Laroi and Justin Bieber  2022        3  0.952381   \n",
      "363       Easy On Me                         Adele  2022        4 -0.575758   \n",
      "364          Shivers                    Ed Sheeran  2022        5  0.607143   \n",
      "\n",
      "     Ave Pitch STD  Ave Pitch Value  Pitch Variation  Pitch Range  \\\n",
      "0         3.110000         0.173152         0.500000     0.724138   \n",
      "1         4.115000        -0.496504         0.346154     0.241379   \n",
      "2         5.047143         0.240631         0.538462     0.551724   \n",
      "3         3.045000         0.170365         0.423077     0.310345   \n",
      "4         3.065000        -0.411212         0.269231     0.172414   \n",
      "..             ...              ...              ...          ...   \n",
      "360       1.637143         0.044623         0.038462     0.000000   \n",
      "361       1.456667        -0.002873         0.115385     0.172414   \n",
      "362       2.700000         0.108673         0.153846     0.172414   \n",
      "363       2.913333         0.290880         0.115385     0.068966   \n",
      "364       1.812500         0.130715         0.115385     0.137931   \n",
      "\n",
      "     Mode Polarity  Note Onset Density  \n",
      "0              1.0           -0.536313  \n",
      "1              1.0           -0.597765  \n",
      "2              1.0            0.098622  \n",
      "3             -1.0           -0.340782  \n",
      "4              1.0           -0.279330  \n",
      "..             ...                 ...  \n",
      "360            1.0            0.311095  \n",
      "361            1.0            0.568528  \n",
      "362            1.0            0.616751  \n",
      "363            1.0           -0.359404  \n",
      "364            1.0            0.380711  \n",
      "\n",
      "[365 rows x 11 columns]\n"
     ]
    }
   ],
   "source": [
    "print(df)"
   ]
  },
  {
   "cell_type": "code",
   "execution_count": 45,
   "id": "2f3f9861-12ba-46b1-857c-6861e8293462",
   "metadata": {
    "scrolled": true
   },
   "outputs": [],
   "source": [
    "df.to_csv('normalised_sentiment_data.csv', index=False)"
   ]
  }
 ],
 "metadata": {
  "kernelspec": {
   "display_name": "Python 3 (ipykernel)",
   "language": "python",
   "name": "python3"
  },
  "language_info": {
   "codemirror_mode": {
    "name": "ipython",
    "version": 3
   },
   "file_extension": ".py",
   "mimetype": "text/x-python",
   "name": "python",
   "nbconvert_exporter": "python",
   "pygments_lexer": "ipython3",
   "version": "3.12.5"
  }
 },
 "nbformat": 4,
 "nbformat_minor": 5
}
